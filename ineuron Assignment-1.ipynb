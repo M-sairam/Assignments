{
 "cells": [
  {
   "cell_type": "markdown",
   "id": "e48faa87",
   "metadata": {},
   "source": [
    "1. In the below elements which of them are values or an expression? eg:- values can be integer or string and expressions will be mathematical operators."
   ]
  },
  {
   "cell_type": "code",
   "execution_count": 3,
   "id": "a9ec6085",
   "metadata": {},
   "outputs": [],
   "source": [
    "#  * is a expression \n",
    "\n",
    "#  'hello' is a value( string data type )\n",
    "\n",
    "#  -87.8 is a value ( float data type)\n",
    "\n",
    "#  - is a expression\n",
    "\n",
    "#  / is a expression\n",
    "\n",
    "# + is a expression\n",
    "\n",
    "#  6 is a value( integer data type)\n",
    "\n"
   ]
  },
  {
   "cell_type": "markdown",
   "id": "a4908c85",
   "metadata": {},
   "source": [
    "2. What is the difference between string and variable?"
   ]
  },
  {
   "cell_type": "markdown",
   "id": "c24584f2",
   "metadata": {},
   "source": [
    "Srting is a collection of characters/digits/special characters enclosed in single or double quotes\n",
    "\n",
    "Variable is a name of memory cell in which data of any datatype can be stored and accessed any time\n"
   ]
  },
  {
   "cell_type": "markdown",
   "id": "0b3c7046",
   "metadata": {},
   "source": [
    "3. Describe three different data types."
   ]
  },
  {
   "cell_type": "markdown",
   "id": "935e0c04",
   "metadata": {},
   "source": [
    "i) Int is a data type which represents all the integer values on number scale (eg: 10, -5)\n",
    "\n",
    "ii)float is a data type which represents all the decimal values on number scale (eg: 15.25, 12.00)\n",
    "\n",
    "iii) string is a data type which represents the characters/digits/special characters if enclosed in single or double quotes (eg: \"asdfg_3541\")"
   ]
  },
  {
   "cell_type": "markdown",
   "id": "ea1d7a73",
   "metadata": {},
   "source": [
    "4. What is an expression made up of? What do all expressions do?"
   ]
  },
  {
   "cell_type": "markdown",
   "id": "182fda02",
   "metadata": {},
   "source": [
    "Expression is made up of operators and variables, Expressions returs a value on its execution."
   ]
  },
  {
   "cell_type": "markdown",
   "id": "f5a7975c",
   "metadata": {},
   "source": [
    "5. This assignment statements, like spam = 10. What is the difference between an expression and a statement?"
   ]
  },
  {
   "cell_type": "markdown",
   "id": "0817969e",
   "metadata": {},
   "source": [
    "Statement may or may not give the result on execution, but experession always gives result on execution.\n",
    "\n",
    "spam = 10 is a statement which means 10 is stored in variable named spam"
   ]
  },
  {
   "cell_type": "markdown",
   "id": "5f5d448d",
   "metadata": {},
   "source": [
    "6. After running the following code, what does the variable bacon contain?"
   ]
  },
  {
   "cell_type": "markdown",
   "id": "8344d4e5",
   "metadata": {},
   "source": [
    "variable bacon contain 22"
   ]
  },
  {
   "cell_type": "markdown",
   "id": "11d7f2a2",
   "metadata": {},
   "source": [
    "7. What should the values of the following two terms be?"
   ]
  },
  {
   "cell_type": "code",
   "execution_count": 11,
   "id": "604c9f97",
   "metadata": {},
   "outputs": [
    {
     "data": {
      "text/plain": [
       "'spamspamspam'"
      ]
     },
     "execution_count": 11,
     "metadata": {},
     "output_type": "execute_result"
    }
   ],
   "source": [
    "'spam' + 'spamspam'"
   ]
  },
  {
   "cell_type": "code",
   "execution_count": 12,
   "id": "5575c776",
   "metadata": {},
   "outputs": [
    {
     "data": {
      "text/plain": [
       "'spamspamspam'"
      ]
     },
     "execution_count": 12,
     "metadata": {},
     "output_type": "execute_result"
    }
   ],
   "source": [
    "'spam'*3"
   ]
  },
  {
   "cell_type": "markdown",
   "id": "6b2c250c",
   "metadata": {},
   "source": [
    "8. Why is eggs a valid variable name while 100 is invalid?"
   ]
  },
  {
   "cell_type": "markdown",
   "id": "daa4e7cd",
   "metadata": {},
   "source": [
    "As per rules variable name should not begin with numerical digit so 100 is not valid. And variable name can begin with character so eggs is valid"
   ]
  },
  {
   "cell_type": "markdown",
   "id": "32d4e3bc",
   "metadata": {},
   "source": [
    "9. What three functions can be used to get the integer, floating-point number, or string version of a value?"
   ]
  },
  {
   "cell_type": "markdown",
   "id": "b1fb27be",
   "metadata": {},
   "source": [
    "i) for integer int() function is used\n",
    "\n",
    "ii) for float()\n",
    "\n",
    "iii) str() is used for string"
   ]
  },
  {
   "cell_type": "markdown",
   "id": "8ccb6e0f",
   "metadata": {},
   "source": [
    "10. Why does this expression cause an error? How can you fix it?\n",
    "'I have eaten ' + 99 + ' burritos.'\n"
   ]
  },
  {
   "cell_type": "markdown",
   "id": "342f78a5",
   "metadata": {},
   "source": [
    "concatinating string with integer is not possible, so that it causes a error. By type casting 99 to string error can be fixed."
   ]
  },
  {
   "cell_type": "code",
   "execution_count": 15,
   "id": "e4b3bd7d",
   "metadata": {},
   "outputs": [
    {
     "data": {
      "text/plain": [
       "'i have eaten 99 burritos'"
      ]
     },
     "execution_count": 15,
     "metadata": {},
     "output_type": "execute_result"
    }
   ],
   "source": [
    "'i have eaten '+str(99)+' burritos'"
   ]
  },
  {
   "cell_type": "code",
   "execution_count": null,
   "id": "9194c9c6",
   "metadata": {},
   "outputs": [],
   "source": []
  }
 ],
 "metadata": {
  "kernelspec": {
   "display_name": "Python 3",
   "language": "python",
   "name": "python3"
  },
  "language_info": {
   "codemirror_mode": {
    "name": "ipython",
    "version": 3
   },
   "file_extension": ".py",
   "mimetype": "text/x-python",
   "name": "python",
   "nbconvert_exporter": "python",
   "pygments_lexer": "ipython3",
   "version": "3.8.8"
  }
 },
 "nbformat": 4,
 "nbformat_minor": 5
}
